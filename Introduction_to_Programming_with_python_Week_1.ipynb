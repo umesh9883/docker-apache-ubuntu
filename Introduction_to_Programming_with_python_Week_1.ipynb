{
  "nbformat": 4,
  "nbformat_minor": 0,
  "metadata": {
    "colab": {
      "provenance": [],
      "authorship_tag": "ABX9TyOKkNOi+ZiaV8Iz5MjaXnqJ",
      "include_colab_link": true
    },
    "kernelspec": {
      "name": "python3",
      "display_name": "Python 3"
    },
    "language_info": {
      "name": "python"
    }
  },
  "cells": [
    {
      "cell_type": "markdown",
      "metadata": {
        "id": "view-in-github",
        "colab_type": "text"
      },
      "source": [
        "<a href=\"https://colab.research.google.com/github/umesh9883/docker-apache-ubuntu/blob/master/Introduction_to_Programming_with_python_Week_1.ipynb\" target=\"_parent\"><img src=\"https://colab.research.google.com/assets/colab-badge.svg\" alt=\"Open In Colab\"/></a>"
      ]
    },
    {
      "cell_type": "markdown",
      "source": [
        "#Introduction to programming with python"
      ],
      "metadata": {
        "id": "vSGVoIn8hMH3"
      }
    },
    {
      "cell_type": "markdown",
      "source": [
        "## Printing in python"
      ],
      "metadata": {
        "id": "P5vu_A7rhvRp"
      }
    },
    {
      "cell_type": "code",
      "execution_count": 1,
      "metadata": {
        "colab": {
          "base_uri": "https://localhost:8080/"
        },
        "id": "bPDh0k_rg0IO",
        "outputId": "63381f9f-3dac-4ff7-dec8-c7cbe7d25d06"
      },
      "outputs": [
        {
          "output_type": "stream",
          "name": "stdout",
          "text": [
            "Hello World\n"
          ]
        }
      ],
      "source": [
        "print(\"Hello World\")"
      ]
    },
    {
      "cell_type": "code",
      "source": [
        "print (\"The output of the Sum of 2+3 is \",2+3)"
      ],
      "metadata": {
        "colab": {
          "base_uri": "https://localhost:8080/"
        },
        "id": "roU9Fu8GiVVw",
        "outputId": "73079da0-0f70-483e-defa-639e49411784"
      },
      "execution_count": 3,
      "outputs": [
        {
          "output_type": "stream",
          "name": "stdout",
          "text": [
            "The output of the Sum of 2+3 is  5\n"
          ]
        }
      ]
    },
    {
      "cell_type": "markdown",
      "source": [
        "## Import a csv file manually"
      ],
      "metadata": {
        "id": "ygFQFJcClIqz"
      }
    },
    {
      "cell_type": "code",
      "source": [
        "import csv\n",
        "\n",
        "#Replace file_path with the path to your csv file.\n",
        "file_path=\"Grades.csv\"\n",
        "\n",
        "#Open the csv in read mode\n",
        "with open(file_path,'r') as csv_file:\n",
        "  # Create a CSV reader object\n",
        "  csv_reader = csv.reader(csv_file)\n",
        "\n",
        "  #Iterate over each row in the csv file\n",
        "  for row in csv_reader:\n",
        "    #Print each row\n",
        "    print(row)"
      ],
      "metadata": {
        "colab": {
          "base_uri": "https://localhost:8080/"
        },
        "id": "x16UKGRblu2V",
        "outputId": "af80f2b9-bdef-4539-a4f3-c6298305b8e5"
      },
      "execution_count": 7,
      "outputs": [
        {
          "output_type": "stream",
          "name": "stdout",
          "text": [
            "['Student ID', ' Grade']\n",
            "['1', 'A']\n",
            "['2', 'B']\n",
            "['3', 'A']\n",
            "['4', 'D']\n",
            "['5', 'C']\n",
            "['6', 'B']\n"
          ]
        }
      ]
    },
    {
      "cell_type": "markdown",
      "source": [
        "## Import a CSV from Google Drive\n"
      ],
      "metadata": {
        "id": "7PVUuOFJmzns"
      }
    },
    {
      "cell_type": "code",
      "source": [
        "from google.colab import drive\n",
        "drive.mount(\"/content/drive\")"
      ],
      "metadata": {
        "colab": {
          "base_uri": "https://localhost:8080/"
        },
        "id": "iQ5VV68fm7VO",
        "outputId": "e50a6249-4328-4310-e9b3-39f51bbd5b82"
      },
      "execution_count": 9,
      "outputs": [
        {
          "output_type": "stream",
          "name": "stdout",
          "text": [
            "Drive already mounted at /content/drive; to attempt to forcibly remount, call drive.mount(\"/content/drive\", force_remount=True).\n"
          ]
        }
      ]
    },
    {
      "cell_type": "code",
      "source": [
        "import csv\n",
        "\n",
        "#Replace file_path with the path to your csv file.\n",
        "file_path=\"/content/drive/MyDrive/IKWorkspace/Grades.csv\"\n",
        "\n",
        "#Open the csv in read mode\n",
        "with open(file_path,'r') as csv_file:\n",
        "  # Create a CSV reader object\n",
        "  csv_reader = csv.reader(csv_file)\n",
        "\n",
        "  #Iterate over each row in the csv file\n",
        "  for row in csv_reader:\n",
        "    #Print each row\n",
        "    print(row)"
      ],
      "metadata": {
        "colab": {
          "base_uri": "https://localhost:8080/"
        },
        "id": "rimSrl8PtHpO",
        "outputId": "fc0fecab-b233-4559-fa3a-6d4f27f30b22"
      },
      "execution_count": 10,
      "outputs": [
        {
          "output_type": "stream",
          "name": "stdout",
          "text": [
            "['Student ID', ' Grade']\n",
            "['1', 'A']\n",
            "['2', 'B']\n",
            "['3', 'A']\n",
            "['4', 'D']\n",
            "['5', 'C']\n",
            "['6', 'B']\n"
          ]
        }
      ]
    },
    {
      "cell_type": "code",
      "source": [
        "\n",
        "side1 = 10\n",
        "side2 = 10\n",
        "side3 = 10\n",
        "\n",
        "# Equilateral\n",
        "if side1 == side2 == side3:\n",
        "  print(\"Equilateral Triangle : All Sides are equal\")\n",
        "\n",
        "elif: side1==side2 or side1==side3 or side2==side3:\n",
        "  print(\"Isosceles Triangle : Two Sides are equal\")\n",
        "\n",
        "else:\n",
        "  print(\"Scalene Triangle : No Sides are equal\")\n"
      ],
      "metadata": {
        "colab": {
          "base_uri": "https://localhost:8080/",
          "height": 106
        },
        "id": "oKqeS4sS6ypR",
        "outputId": "71bca983-5303-459e-ebb6-0b9c2161402f"
      },
      "execution_count": 24,
      "outputs": [
        {
          "output_type": "error",
          "ename": "SyntaxError",
          "evalue": "invalid syntax (<ipython-input-24-361a0b75d66d>, line 9)",
          "traceback": [
            "\u001b[0;36m  File \u001b[0;32m\"<ipython-input-24-361a0b75d66d>\"\u001b[0;36m, line \u001b[0;32m9\u001b[0m\n\u001b[0;31m    elif: side1==side2 or side1==side3 or side2==side3:\u001b[0m\n\u001b[0m        ^\u001b[0m\n\u001b[0;31mSyntaxError\u001b[0m\u001b[0;31m:\u001b[0m invalid syntax\n"
          ]
        }
      ]
    }
  ]
}